{
 "metadata": {
  "language_info": {
   "codemirror_mode": {
    "name": "ipython",
    "version": 3
   },
   "file_extension": ".py",
   "mimetype": "text/x-python",
   "name": "python",
   "nbconvert_exporter": "python",
   "pygments_lexer": "ipython3",
   "version": "3.8.5"
  },
  "orig_nbformat": 2,
  "kernelspec": {
   "name": "python385jvsc74a57bd02db524e06e9f5f4ffedc911c917cb75e12dbc923643829bf417064a77eb14d37",
   "display_name": "Python 3.8.5 64-bit"
  },
  "metadata": {
   "interpreter": {
    "hash": "2db524e06e9f5f4ffedc911c917cb75e12dbc923643829bf417064a77eb14d37"
   }
  }
 },
 "nbformat": 4,
 "nbformat_minor": 2,
 "cells": [
  {
   "cell_type": "code",
   "execution_count": 11,
   "metadata": {},
   "outputs": [],
   "source": [
    "import numpy as np\n",
    "import torch\n",
    "import torchmetrics\n",
    "import pandas as pd\n",
    "import pandas_path  # Path style access for pandas"
   ]
  },
  {
   "cell_type": "code",
   "execution_count": 12,
   "metadata": {},
   "outputs": [],
   "source": [
    "from csv import writer\n",
    "\n",
    "def add_model_to_performance_csv(predictions_filepath, performance_filepath, model_name):\n",
    "    model_output = pd.read_csv(predictions_filepath)\n",
    "    probs = torch.tensor(model_output.proba.values)\n",
    "    preds = torch.tensor(model_output.label.values)\n",
    "    truths = torch.tensor(model_output.truth.values)\n",
    "\n",
    "    tp, fp, tn, fn, sup = torchmetrics.functional.stat_scores(preds=probs, target=truths)\n",
    "\n",
    "    new_row = [model_name, \n",
    "                torchmetrics.functional.accuracy(preds=probs, target=truths).item(), \n",
    "                torchmetrics.functional.auc(x=probs, y=truths, reorder=True).item(), \n",
    "                torchmetrics.functional.auroc(preds=probs, target=truths).item(), \n",
    "                torchmetrics.functional.average_precision(preds=probs, target=truths).item(),\n",
    "                torchmetrics.functional.cohen_kappa(preds=probs, target=truths, num_classes=2).item(),\n",
    "                torchmetrics.functional.f1(preds=probs, target=truths).item(),\n",
    "                torchmetrics.functional.fbeta(preds=probs, target=truths).item(), \n",
    "                torchmetrics.functional.hamming_distance(preds=probs, target=truths).item(),\n",
    "                torchmetrics.functional.hinge(preds=probs, target=truths).item(), \n",
    "                torchmetrics.functional.iou(preds=probs, target=truths).item(),\n",
    "                torchmetrics.functional.matthews_corrcoef(preds=probs, target=truths, num_classes=2).item(),\n",
    "                torchmetrics.functional.matthews_corrcoef(preds=probs, target=truths, num_classes=2).item(),\n",
    "                torchmetrics.functional.precision(preds=probs, target=truths).item(),\n",
    "                torchmetrics.functional.recall(preds=probs, target=truths).item(),\n",
    "                tp.item(),\n",
    "                fp.item(),\n",
    "                tn.item(),\n",
    "                fn.item()\n",
    "                ]\n",
    "\n",
    "    with open(performance_filepath, 'a+', newline='') as writer_obj:\n",
    "        csv_writer = writer(writer_obj)\n",
    "        csv_writer.writerow(new_row)\n"
   ]
  },
  {
   "cell_type": "code",
   "execution_count": 13,
   "metadata": {},
   "outputs": [],
   "source": [
    "add_model_to_performance_csv(\"predictions/ernie_predictions.csv\", \"model_performance.csv\", \"ernie\")"
   ]
  },
  {
   "cell_type": "code",
   "execution_count": null,
   "metadata": {},
   "outputs": [],
   "source": []
  }
 ]
}