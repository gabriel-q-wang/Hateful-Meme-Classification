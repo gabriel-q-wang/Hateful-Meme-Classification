{
 "metadata": {
  "language_info": {
   "codemirror_mode": {
    "name": "ipython",
    "version": 3
   },
   "file_extension": ".py",
   "mimetype": "text/x-python",
   "name": "python",
   "nbconvert_exporter": "python",
   "pygments_lexer": "ipython3",
   "version": "3.8.5"
  },
  "orig_nbformat": 2,
  "kernelspec": {
   "name": "python385jvsc74a57bd02db524e06e9f5f4ffedc911c917cb75e12dbc923643829bf417064a77eb14d37",
   "display_name": "Python 3.8.5 64-bit"
  },
  "metadata": {
   "interpreter": {
    "hash": "2db524e06e9f5f4ffedc911c917cb75e12dbc923643829bf417064a77eb14d37"
   }
  }
 },
 "nbformat": 4,
 "nbformat_minor": 2,
 "cells": [
  {
   "cell_type": "code",
   "execution_count": 6,
   "metadata": {},
   "outputs": [],
   "source": [
    "import numpy as np\n",
    "import torch\n",
    "import torchmetrics\n",
    "import pandas as pd\n",
    "import pandas_path  # Path style access for pandas"
   ]
  },
  {
   "cell_type": "code",
   "execution_count": 7,
   "metadata": {},
   "outputs": [
    {
     "output_type": "execute_result",
     "data": {
      "text/plain": [
       "      id     proba  label  truth\n",
       "0  34076  0.236839      0      0\n",
       "1  67842  0.581005      1      1\n",
       "2   6295  0.189257      0      0\n",
       "3  48235  0.741097      1      0\n",
       "4  12694  0.916705      1      0"
      ],
      "text/html": "<div>\n<style scoped>\n    .dataframe tbody tr th:only-of-type {\n        vertical-align: middle;\n    }\n\n    .dataframe tbody tr th {\n        vertical-align: top;\n    }\n\n    .dataframe thead th {\n        text-align: right;\n    }\n</style>\n<table border=\"1\" class=\"dataframe\">\n  <thead>\n    <tr style=\"text-align: right;\">\n      <th></th>\n      <th>id</th>\n      <th>proba</th>\n      <th>label</th>\n      <th>truth</th>\n    </tr>\n  </thead>\n  <tbody>\n    <tr>\n      <th>0</th>\n      <td>34076</td>\n      <td>0.236839</td>\n      <td>0</td>\n      <td>0</td>\n    </tr>\n    <tr>\n      <th>1</th>\n      <td>67842</td>\n      <td>0.581005</td>\n      <td>1</td>\n      <td>1</td>\n    </tr>\n    <tr>\n      <th>2</th>\n      <td>6295</td>\n      <td>0.189257</td>\n      <td>0</td>\n      <td>0</td>\n    </tr>\n    <tr>\n      <th>3</th>\n      <td>48235</td>\n      <td>0.741097</td>\n      <td>1</td>\n      <td>0</td>\n    </tr>\n    <tr>\n      <th>4</th>\n      <td>12694</td>\n      <td>0.916705</td>\n      <td>1</td>\n      <td>0</td>\n    </tr>\n  </tbody>\n</table>\n</div>"
     },
     "metadata": {},
     "execution_count": 7
    }
   ],
   "source": [
    "model_output = pd.read_csv(\"predictions/bert_predictions.csv\")\n",
    "model_output.head()"
   ]
  },
  {
   "cell_type": "code",
   "execution_count": 8,
   "metadata": {},
   "outputs": [
    {
     "output_type": "stream",
     "name": "stdout",
     "text": [
      "torch.Size([914])\n",
      "accuracy 0.5700218677520752\n",
      "\n",
      "\n",
      "auc 0.46097746491432234\n",
      "\n",
      "\n",
      "auroc 0.5861502289772034\n",
      "\n",
      "\n",
      "average_precision 0.5721762180328369\n",
      "\n",
      "\n",
      "cohen_kappa 0.13952457904815674\n",
      "\n",
      "\n",
      "confusion_matrix tensor([[272., 199.],\n",
      "        [194., 249.]])\n",
      "\n",
      "\n",
      "f1 0.5589225888252258\n",
      "\n",
      "\n",
      "fbeta 0.5589225888252258\n",
      "\n",
      "\n",
      "hamming_distance 0.4299781322479248\n",
      "\n",
      "\n",
      "hinge 0.9782688551718935\n",
      "\n",
      "\n",
      "iou 0.3984365165233612\n",
      "\n",
      "\n",
      "matthews_corrcoef 0.13953299820423126\n",
      "\n",
      "\n",
      "roc 0.13953299820423126\n",
      "\n",
      "\n",
      "precision 0.5558035969734192\n",
      "\n",
      "\n",
      "recall 0.56207674741745\n",
      "\n",
      "\n",
      "tensor(249)\n",
      "stat_scores tensor([249, 199, 272, 194, 443])\n",
      "\n",
      "\n",
      "C:\\Python38\\lib\\site-packages\\torchmetrics\\utilities\\prints.py:36: UserWarning: `pos_label` automatically set 1.\n",
      "  warnings.warn(*args, **kwargs)\n"
     ]
    }
   ],
   "source": [
    "probs = torch.tensor(model_output.proba.values)\n",
    "preds = torch.tensor(model_output.label.values)\n",
    "truths = torch.tensor(model_output.truth.values)\n",
    "print(probs.shape)\n",
    "\n",
    "print(\"accuracy\", torchmetrics.functional.accuracy(preds=probs, target=truths).item())\n",
    "print(\"\\n\")\n",
    "\n",
    "print(\"auc\", torchmetrics.functional.auc(x=probs, y=truths, reorder=True).item())\n",
    "print(\"\\n\")\n",
    "\n",
    "print(\"auroc\", torchmetrics.functional.auroc(preds=probs, target=truths).item())\n",
    "print(\"\\n\")\n",
    "\n",
    "print(\"average_precision\", torchmetrics.functional.average_precision(preds=probs, target=truths).item())\n",
    "print(\"\\n\")\n",
    "\n",
    "print(\"cohen_kappa\", torchmetrics.functional.cohen_kappa(preds=probs, target=truths, num_classes=2).item())\n",
    "print(\"\\n\")\n",
    "\n",
    "print(\"confusion_matrix\", torchmetrics.functional.confusion_matrix(preds=probs, target=truths, num_classes=2))\n",
    "print(\"\\n\")\n",
    "\n",
    "# print(\"dice_score\", torchmetrics.functional.dice_score(preds=probs, target=truths))\n",
    "# print(\"\\n\")\n",
    "\n",
    "print(\"f1\", torchmetrics.functional.f1(preds=probs, target=truths).item())\n",
    "print(\"\\n\")\n",
    "\n",
    "print(\"fbeta\", torchmetrics.functional.fbeta(preds=probs, target=truths).item())\n",
    "print(\"\\n\")\n",
    "\n",
    "print(\"hamming_distance\", torchmetrics.functional.hamming_distance(preds=probs, target=truths).item())\n",
    "print(\"\\n\")\n",
    "\n",
    "print(\"hinge\", torchmetrics.functional.hinge(preds=probs, target=truths).item())\n",
    "print(\"\\n\")\n",
    "\n",
    "print(\"iou\", torchmetrics.functional.iou(preds=probs, target=truths).item())\n",
    "print(\"\\n\")\n",
    "\n",
    "print(\"matthews_corrcoef\", torchmetrics.functional.matthews_corrcoef(preds=probs, target=truths, num_classes=2).item())\n",
    "print(\"\\n\")\n",
    "\n",
    "print(\"roc\", torchmetrics.functional.matthews_corrcoef(preds=probs, target=truths, num_classes=2).item())\n",
    "print(\"\\n\")\n",
    "\n",
    "print(\"precision\", torchmetrics.functional.precision(preds=probs, target=truths).item())\n",
    "print(\"\\n\")\n",
    "\n",
    "print(\"recall\", torchmetrics.functional.recall(preds=probs, target=truths).item())\n",
    "print(\"\\n\")\n",
    "\n",
    "tp, fp, tn, fn, sup = torchmetrics.functional.stat_scores(preds=probs, target=truths)\n",
    "\n",
    "print(tp)\n",
    "\n",
    "print(\"stat_scores\", torchmetrics.functional.stat_scores(preds=probs, target=truths))\n",
    "print(\"\\n\")\n"
   ]
  },
  {
   "cell_type": "code",
   "execution_count": 9,
   "metadata": {},
   "outputs": [],
   "source": [
    "from csv import writer\n",
    "\n",
    "def add_model_to_performance_csv(predictions_filepath, performance_filepath, model_name):\n",
    "    model_output = pd.read_csv(predictions_filepath)\n",
    "    probs = torch.tensor(model_output.proba.values)\n",
    "    preds = torch.tensor(model_output.label.values)\n",
    "    truths = torch.tensor(model_output.truth.values)\n",
    "\n",
    "    tp, fp, tn, fn, sup = torchmetrics.functional.stat_scores(preds=probs, target=truths)\n",
    "\n",
    "    new_row = [model_name, \n",
    "                torchmetrics.functional.accuracy(preds=probs, target=truths).item(), \n",
    "                torchmetrics.functional.auc(x=probs, y=truths, reorder=True).item(), \n",
    "                torchmetrics.functional.auroc(preds=probs, target=truths).item(), \n",
    "                torchmetrics.functional.average_precision(preds=probs, target=truths).item(),\n",
    "                torchmetrics.functional.cohen_kappa(preds=probs, target=truths, num_classes=2).item(),\n",
    "                torchmetrics.functional.f1(preds=probs, target=truths).item(),\n",
    "                torchmetrics.functional.fbeta(preds=probs, target=truths).item(), \n",
    "                torchmetrics.functional.hamming_distance(preds=probs, target=truths).item(),\n",
    "                torchmetrics.functional.hinge(preds=probs, target=truths).item(), \n",
    "                torchmetrics.functional.iou(preds=probs, target=truths).item(),\n",
    "                torchmetrics.functional.matthews_corrcoef(preds=probs, target=truths, num_classes=2).item(),\n",
    "                torchmetrics.functional.matthews_corrcoef(preds=probs, target=truths, num_classes=2).item(),\n",
    "                torchmetrics.functional.precision(preds=probs, target=truths).item(),\n",
    "                torchmetrics.functional.recall(preds=probs, target=truths).item(),\n",
    "                tp.item(),\n",
    "                fp.item(),\n",
    "                tn.item(),\n",
    "                fn.item()\n",
    "                ]\n",
    "\n",
    "    with open(performance_filepath, 'a+', newline='') as writer_obj:\n",
    "        csv_writer = writer(writer_obj)\n",
    "        csv_writer.writerow(new_row)\n"
   ]
  },
  {
   "cell_type": "code",
   "execution_count": 10,
   "metadata": {},
   "outputs": [],
   "source": [
    "add_model_to_performance_csv(\"predictions/xlm_predictions.csv\", \"model_performance.csv\", \"xlm\")"
   ]
  },
  {
   "cell_type": "code",
   "execution_count": null,
   "metadata": {},
   "outputs": [],
   "source": []
  }
 ]
}